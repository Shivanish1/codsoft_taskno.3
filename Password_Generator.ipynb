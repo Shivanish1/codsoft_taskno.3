{
 "cells": [
  {
   "cell_type": "code",
   "execution_count": 7,
   "id": "92a15aa0-76b4-4ab1-b05e-5f5806e7ed05",
   "metadata": {},
   "outputs": [],
   "source": [
    "import pandas as pd\n",
    "import tkinter as tk\n",
    "from tkinter import messagebox, Listbox\n",
    "import random\n",
    "import string\n",
    "\n",
    "#Function to generate password\n",
    "def generate_password():\n",
    "    try:\n",
    "        length = int(length_var.get())\n",
    "        if length < 6: \n",
    "            messagebox.showwarning(\"Warning\", \"Password length should be atleast 6 character.\")\n",
    "            return\n",
    "    except ValueError:\n",
    "        messagebox.showerror(\"Error\", \"Please enter a valid number for the password length.\")\n",
    "        return\n",
    "\n",
    "    #Character set for password\n",
    "    characters = string.ascii_letters + string.digits + string.punctuation\n",
    "    \n",
    "    #Generate random password\n",
    "    password = ''.join(random.choices(characters, k=length))\n",
    "\n",
    "    #Display generated password\n",
    "    password_entry.insert(tk.END, password)\n",
    "\n",
    "    #Add password to the ListBox\n",
    "    password_list.insert(tk.END, password)\n",
    "\n",
    "#Functions to clear the generated password\n",
    "def clear_generated_password():\n",
    "    password_entry.delete(0,tk.END)\n",
    "    \n",
    "#Function to clear the listbox\n",
    "def clear_passwords():\n",
    "    password_list.delete(0, tk.END)\n",
    "\n",
    "#GUI setup\n",
    "root= tk.Tk()\n",
    "root.title(\"Password Generator\")\n",
    "\n",
    "#Variables\n",
    "length_var = tk.StringVar()\n",
    "\n",
    "#Labels and Entry for password length\n",
    "tk.Label(root, text = \"Password Length:\").grid(row=0, column=0, padx=10, pady=10)\n",
    "length_entry = tk.Entry(root, textvariable = length_var)\n",
    "length_entry.grid(row=0, column=1, padx=10, pady=10)\n",
    "\n",
    "#Buttons to generate and clear passwords\n",
    "tk.Button(root, text= \"Generate Password\", command = generate_password).grid(row=1, column=0, padx=10, pady=10)\n",
    "\n",
    "tk.Button(root, text= \"Clear Generated Password\", command = clear_generated_password).grid(row=1, column=1, padx=10, pady=10)\n",
    "\n",
    "tk.Button(root, text= \"Clear List\", command=clear_passwords).grid(row=1, column=2, padx=10, pady=10)\n",
    "\n",
    "#Label and entry for generated password\n",
    "tk.Label(root, text=\"Generated Password:\").grid(row=2, column=0, padx=10, pady=10)\n",
    "password_entry = tk.Entry(root, width=30)\n",
    "password_entry.grid(row=2, column=1, padx=10, pady=10)\n",
    "\n",
    "#Listbox to display generated passwords\n",
    "password_list = Listbox(root, width=50, height=10)\n",
    "password_list.grid(row=3, column=0, columnspan=2, padx=10, pady=10)\n",
    "\n",
    "#Start the mainloop\n",
    "root.mainloop()"
   ]
  },
  {
   "cell_type": "markdown",
   "id": "de120867-07ce-425c-b5ec-85f9a3f51114",
   "metadata": {
    "jp-MarkdownHeadingCollapsed": true
   },
   "source": [
    " "
   ]
  }
 ],
 "metadata": {
  "kernelspec": {
   "display_name": "Python 3 (ipykernel)",
   "language": "python",
   "name": "python3"
  },
  "language_info": {
   "codemirror_mode": {
    "name": "ipython",
    "version": 3
   },
   "file_extension": ".py",
   "mimetype": "text/x-python",
   "name": "python",
   "nbconvert_exporter": "python",
   "pygments_lexer": "ipython3",
   "version": "3.11.7"
  }
 },
 "nbformat": 4,
 "nbformat_minor": 5
}
